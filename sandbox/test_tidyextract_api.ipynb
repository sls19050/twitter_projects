{
 "cells": [
  {
   "cell_type": "code",
   "execution_count": 9,
   "metadata": {},
   "outputs": [],
   "source": [
    "import config\n",
    "import readability\n",
    "#nltk.download('averaged_perceptron_tagger')\n",
    "#nltk.download('popular')\n",
    "from tidyextractors.tidytwitter import TwitterExtractor\n",
    "\n",
    "# Your Twitter API credentails. See below for how to get them!\n",
    "credentials = {\n",
    "    'access_token': config.access_token,\n",
    "    'access_secret': config.access_secret,\n",
    "    'consumer_key': config.consumer_key,\n",
    "    'consumer_secret': config.consumer_secret\n",
    "}\n"
   ]
  },
  {
   "cell_type": "code",
   "execution_count": 10,
   "metadata": {},
   "outputs": [
    {
     "name": "stderr",
     "output_type": "stream",
     "text": [
      "Extracting user data...: 100%|██████████| 2/2 [00:00<00:00,  5.02it/s]\n",
      "  0%|          | 0/6400 [00:00<?, ?it/s]\u001b[A\n",
      "Extracted tweets by realDonaldTrump:   0%|          | 0/6400 [00:20<?, ?it/s]\u001b[A\n",
      "Extracted tweets by realDonaldTrump: : 55302it [00:20, 2737.98it/s]          \u001b[A\n",
      "Extracted tweets by JoeBiden: : 55302it [00:38, 2737.98it/s]       \u001b[A\n",
      "Extracting user data...: 100%|██████████| 2/2 [00:39<00:00, 19.51s/it]\n",
      "Extracted tweets by JoeBiden: : 60994it [00:38, 1579.09it/s]\n",
      "32185it [00:00, 1009230.59it/s]      \n"
     ]
    }
   ],
   "source": [
    "# A list of users for data extraction.\n",
    "users = ['realDonaldTrump','JoeBiden']\n",
    "\n",
    "# Extract Twitter data.\n",
    "tx = TwitterExtractor(users, extract_tweets=True, **credentials)\n",
    "\n",
    "# Twitter user profile data in a Pandas DataFrame\n",
    "user_df = tx.users(drop_collections=True)\n",
    "\n",
    "# User/tweet keyed Pandas DataFrame\n",
    "tweet_df = tx.tweets()"
   ]
  },
  {
   "cell_type": "code",
   "execution_count": 13,
   "metadata": {},
   "outputs": [
    {
     "data": {
      "text/html": [
       "<div>\n",
       "<style scoped>\n",
       "    .dataframe tbody tr th:only-of-type {\n",
       "        vertical-align: middle;\n",
       "    }\n",
       "\n",
       "    .dataframe tbody tr th {\n",
       "        vertical-align: top;\n",
       "    }\n",
       "\n",
       "    .dataframe thead th {\n",
       "        text-align: right;\n",
       "    }\n",
       "</style>\n",
       "<table border=\"1\" class=\"dataframe\">\n",
       "  <thead>\n",
       "    <tr style=\"text-align: right;\">\n",
       "      <th></th>\n",
       "      <th>id</th>\n",
       "      <th>id_str</th>\n",
       "      <th>lang</th>\n",
       "      <th>location</th>\n",
       "      <th>name</th>\n",
       "      <th>protected</th>\n",
       "      <th>screen_name</th>\n",
       "      <th>time_zone</th>\n",
       "      <th>utc_offset</th>\n",
       "      <th>tweet_id</th>\n",
       "      <th>tweets/created</th>\n",
       "      <th>tweets/text</th>\n",
       "      <th>tweets/retweet</th>\n",
       "      <th>tweets/rt_author</th>\n",
       "    </tr>\n",
       "  </thead>\n",
       "  <tbody>\n",
       "    <tr>\n",
       "      <th>0</th>\n",
       "      <td>25073877</td>\n",
       "      <td>25073877</td>\n",
       "      <td>None</td>\n",
       "      <td>Washington, DC</td>\n",
       "      <td>Donald J. Trump</td>\n",
       "      <td>False</td>\n",
       "      <td>realDonaldTrump</td>\n",
       "      <td>None</td>\n",
       "      <td>None</td>\n",
       "      <td>1301319207255187456</td>\n",
       "      <td>2020-09-03 00:40:51</td>\n",
       "      <td>Thank you Michele! https://t.co/0Z7KzA9lb8</td>\n",
       "      <td>False</td>\n",
       "      <td></td>\n",
       "    </tr>\n",
       "    <tr>\n",
       "      <th>1</th>\n",
       "      <td>25073877</td>\n",
       "      <td>25073877</td>\n",
       "      <td>None</td>\n",
       "      <td>Washington, DC</td>\n",
       "      <td>Donald J. Trump</td>\n",
       "      <td>False</td>\n",
       "      <td>realDonaldTrump</td>\n",
       "      <td>None</td>\n",
       "      <td>None</td>\n",
       "      <td>1301315810485579776</td>\n",
       "      <td>2020-09-03 00:27:21</td>\n",
       "      <td>My Administration will do everything in its po...</td>\n",
       "      <td>False</td>\n",
       "      <td></td>\n",
       "    </tr>\n",
       "    <tr>\n",
       "      <th>2</th>\n",
       "      <td>25073877</td>\n",
       "      <td>25073877</td>\n",
       "      <td>None</td>\n",
       "      <td>Washington, DC</td>\n",
       "      <td>Donald J. Trump</td>\n",
       "      <td>False</td>\n",
       "      <td>realDonaldTrump</td>\n",
       "      <td>None</td>\n",
       "      <td>None</td>\n",
       "      <td>1301314717835825157</td>\n",
       "      <td>2020-09-03 00:23:00</td>\n",
       "      <td>https://t.co/dmijM5qHxz https://t.co/8c3ehazrAy</td>\n",
       "      <td>False</td>\n",
       "      <td></td>\n",
       "    </tr>\n",
       "    <tr>\n",
       "      <th>3</th>\n",
       "      <td>25073877</td>\n",
       "      <td>25073877</td>\n",
       "      <td>None</td>\n",
       "      <td>Washington, DC</td>\n",
       "      <td>Donald J. Trump</td>\n",
       "      <td>False</td>\n",
       "      <td>realDonaldTrump</td>\n",
       "      <td>None</td>\n",
       "      <td>None</td>\n",
       "      <td>1301276843258138624</td>\n",
       "      <td>2020-09-02 21:52:30</td>\n",
       "      <td>https://t.co/cVx8hPPTVd</td>\n",
       "      <td>False</td>\n",
       "      <td></td>\n",
       "    </tr>\n",
       "    <tr>\n",
       "      <th>4</th>\n",
       "      <td>25073877</td>\n",
       "      <td>25073877</td>\n",
       "      <td>None</td>\n",
       "      <td>Washington, DC</td>\n",
       "      <td>Donald J. Trump</td>\n",
       "      <td>False</td>\n",
       "      <td>realDonaldTrump</td>\n",
       "      <td>None</td>\n",
       "      <td>None</td>\n",
       "      <td>1301276544829095937</td>\n",
       "      <td>2020-09-02 21:51:19</td>\n",
       "      <td>RT @gatewaypundit: WOW! --&amp;gt;Joe Biden Given ...</td>\n",
       "      <td>True</td>\n",
       "      <td>@gatewaypundit</td>\n",
       "    </tr>\n",
       "  </tbody>\n",
       "</table>\n",
       "</div>"
      ],
      "text/plain": [
       "         id    id_str  lang        location             name  protected  \\\n",
       "0  25073877  25073877  None  Washington, DC  Donald J. Trump      False   \n",
       "1  25073877  25073877  None  Washington, DC  Donald J. Trump      False   \n",
       "2  25073877  25073877  None  Washington, DC  Donald J. Trump      False   \n",
       "3  25073877  25073877  None  Washington, DC  Donald J. Trump      False   \n",
       "4  25073877  25073877  None  Washington, DC  Donald J. Trump      False   \n",
       "\n",
       "       screen_name time_zone utc_offset             tweet_id  \\\n",
       "0  realDonaldTrump      None       None  1301319207255187456   \n",
       "1  realDonaldTrump      None       None  1301315810485579776   \n",
       "2  realDonaldTrump      None       None  1301314717835825157   \n",
       "3  realDonaldTrump      None       None  1301276843258138624   \n",
       "4  realDonaldTrump      None       None  1301276544829095937   \n",
       "\n",
       "       tweets/created                                        tweets/text  \\\n",
       "0 2020-09-03 00:40:51         Thank you Michele! https://t.co/0Z7KzA9lb8   \n",
       "1 2020-09-03 00:27:21  My Administration will do everything in its po...   \n",
       "2 2020-09-03 00:23:00    https://t.co/dmijM5qHxz https://t.co/8c3ehazrAy   \n",
       "3 2020-09-02 21:52:30                            https://t.co/cVx8hPPTVd   \n",
       "4 2020-09-02 21:51:19  RT @gatewaypundit: WOW! --&gt;Joe Biden Given ...   \n",
       "\n",
       "   tweets/retweet tweets/rt_author  \n",
       "0           False                   \n",
       "1           False                   \n",
       "2           False                   \n",
       "3           False                   \n",
       "4            True   @gatewaypundit  "
      ]
     },
     "execution_count": 13,
     "metadata": {},
     "output_type": "execute_result"
    }
   ],
   "source": [
    "tweet_df.head()"
   ]
  },
  {
   "cell_type": "code",
   "execution_count": 33,
   "metadata": {},
   "outputs": [
    {
     "name": "stdout",
     "output_type": "stream",
     "text": [
      "number of tweets from trump:  3193\n",
      "number of tweets from biden:  3244\n"
     ]
    }
   ],
   "source": [
    "trump_tweets = tweet_df[tweet_df['screen_name'] == 'realDonaldTrump']\n",
    "biden_tweets = tweet_df[tweet_df['screen_name'] == 'JoeBiden']\n",
    "print(\"number of tweets from trump: \", trump_tweets.count()[0])\n",
    "print(\"number of tweets from biden: \", biden_tweets.count()[0])\n"
   ]
  },
  {
   "cell_type": "code",
   "execution_count": 30,
   "metadata": {},
   "outputs": [
    {
     "name": "stdout",
     "output_type": "stream",
     "text": [
      "Trump's tweet readability grade level:  8.986994729612686\n"
     ]
    }
   ],
   "source": [
    "trump_texts = trump_tweets['tweets/text'].tolist()\n",
    "trump_texts = '\\n'.join(trump_texts)\n",
    "results = readability.getmeasures(trump_texts, lang='en')\n",
    "print(\"Trump's tweet readability grade level: \", results['readability grades']['ARI'])"
   ]
  },
  {
   "cell_type": "code",
   "execution_count": 28,
   "metadata": {},
   "outputs": [
    {
     "name": "stdout",
     "output_type": "stream",
     "text": [
      "Biden's tweet readability grade level:  9.111520008152283\n"
     ]
    }
   ],
   "source": [
    "biden_texts = biden_tweets['tweets/text'].tolist()\n",
    "biden_texts = '\\n'.join(biden_texts)\n",
    "results = readability.getmeasures(biden_texts, lang='en')\n",
    "print(\"Biden's tweet readability grade level: \", results['readability grades']['ARI'])"
   ]
  },
  {
   "cell_type": "code",
   "execution_count": null,
   "metadata": {},
   "outputs": [],
   "source": []
  }
 ],
 "metadata": {
  "kernelspec": {
   "display_name": "Python 3",
   "language": "python",
   "name": "python3"
  },
  "language_info": {
   "codemirror_mode": {
    "name": "ipython",
    "version": 3
   },
   "file_extension": ".py",
   "mimetype": "text/x-python",
   "name": "python",
   "nbconvert_exporter": "python",
   "pygments_lexer": "ipython3",
   "version": "3.7.9"
  }
 },
 "nbformat": 4,
 "nbformat_minor": 4
}
